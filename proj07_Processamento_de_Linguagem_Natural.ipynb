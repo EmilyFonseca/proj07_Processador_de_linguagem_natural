{
  "nbformat": 4,
  "nbformat_minor": 0,
  "metadata": {
    "colab": {
      "provenance": [],
      "authorship_tag": "ABX9TyNW7QJygZl6Yys16MLWan5B",
      "include_colab_link": true
    },
    "kernelspec": {
      "name": "python3",
      "display_name": "Python 3"
    },
    "language_info": {
      "name": "python"
    }
  },
  "cells": [
    {
      "cell_type": "markdown",
      "metadata": {
        "id": "view-in-github",
        "colab_type": "text"
      },
      "source": [
        "<a href=\"https://colab.research.google.com/github/EmilyFonseca/proj07_Processador_de_linguagem_natural/blob/main/proj07_Processamento_de_Linguagem_Natural.ipynb\" target=\"_parent\"><img src=\"https://colab.research.google.com/assets/colab-badge.svg\" alt=\"Open In Colab\"/></a>"
      ]
    },
    {
      "cell_type": "code",
      "execution_count": 2,
      "metadata": {
        "id": "7lmXVv__xVmH"
      },
      "outputs": [],
      "source": [
        "# criar uma função para fazer a abertura e leitura do arquivo\n",
        "def ler(nome_arquivo):\n",
        "    arquivo = open(nome_arquivo, 'r', encoding='utf-8')\n",
        "    conteudo_arq = arquivo.read()\n",
        "    arquivo.close()\n",
        "    return conteudo_arq"
      ]
    },
    {
      "cell_type": "code",
      "source": [
        "texto = ler('/content/Ubirajara.txt')\n",
        "print(len(texto))"
      ],
      "metadata": {
        "colab": {
          "base_uri": "https://localhost:8080/"
        },
        "id": "s5ddVbUVxZE7",
        "outputId": "1daa4673-1ca4-43a3-b289-375929a23f39"
      },
      "execution_count": 3,
      "outputs": [
        {
          "output_type": "stream",
          "name": "stdout",
          "text": [
            "219835\n"
          ]
        }
      ]
    },
    {
      "cell_type": "code",
      "source": [
        "def buscador(alvo, texto):\n",
        "    texto = texto.replace('\\n',' ')\n",
        "    texto = texto.replace('\\t',' ')\n",
        "\n",
        "    ocorrencias = []\n",
        "\n",
        "    encontrado_aqui = texto.find(alvo,0)\n",
        "        #Se encontra a palavra, informa a posição\n",
        "        #Se não encontrar, informa -1\n",
        "\n",
        "    while encontrado_aqui > 0:\n",
        "        pos_inicial = encontrado_aqui - (40 - len(alvo))\n",
        "        trecho = texto[pos_inicial: pos_inicial + 80]\n",
        "\n",
        "        ocorrencias.append(trecho)\n",
        "\n",
        "        encontrado_aqui = texto.find(alvo, encontrado_aqui + 1)\n",
        "\n",
        "        # inicia a busca a partir da posição anterior + 1\n",
        "        # Se encontra a palavra, informa a posição\n",
        "        # Se não encontrar, informa -1\n",
        "\n",
        "        return ocorrencias"
      ],
      "metadata": {
        "id": "u-I5bIVUxoYz"
      },
      "execution_count": 10,
      "outputs": []
    },
    {
      "cell_type": "code",
      "source": [
        "resultados = buscador('peito', texto)\n",
        "\n",
        "for trecho in resultados:\n",
        "    print(trecho)"
      ],
      "metadata": {
        "colab": {
          "base_uri": "https://localhost:8080/"
        },
        "id": "p_5RBWu1x3-E",
        "outputId": "f8125b92-20b5-45b3-a7a9-0c725c07823c"
      },
      "execution_count": 11,
      "outputs": [
        {
          "output_type": "stream",
          "name": "stdout",
          "text": [
            "i o chefe tocantim quem recebeu no peito a ponta farpada.  Quando o corpo robust\n"
          ]
        }
      ]
    },
    {
      "cell_type": "code",
      "source": [
        "palavras = texto.split()"
      ],
      "metadata": {
        "id": "OSEFQw41yGKE"
      },
      "execution_count": 12,
      "outputs": []
    },
    {
      "cell_type": "code",
      "source": [
        "def limpar(lista):\n",
        "    lixo = '.,:;?!\"´`^~()[]{}/\\|@#$%¨&*-'\n",
        "    quase_limpo = [x.strip(lixo).lower() for x in lista]\n",
        "    return [x for x in quase_limpo if x.isalpha() or '-' not in x]"
      ],
      "metadata": {
        "id": "haLRXcjayHuD"
      },
      "execution_count": 13,
      "outputs": []
    },
    {
      "cell_type": "code",
      "source": [
        "teste = \"Corre-se atrás do carro, corre se o carro for embora.\"\n",
        "word = teste.split()\n",
        "print(word)"
      ],
      "metadata": {
        "colab": {
          "base_uri": "https://localhost:8080/"
        },
        "id": "Ay_oU-JEySxr",
        "outputId": "20389e2c-9b6f-40bb-b6cc-deeb20ad9342"
      },
      "execution_count": 14,
      "outputs": [
        {
          "output_type": "stream",
          "name": "stdout",
          "text": [
            "['Corre-se', 'atrás', 'do', 'carro,', 'corre', 'se', 'o', 'carro', 'for', 'embora.']\n"
          ]
        }
      ]
    },
    {
      "cell_type": "code",
      "source": [
        "print(limpar(word))"
      ],
      "metadata": {
        "colab": {
          "base_uri": "https://localhost:8080/"
        },
        "id": "SyOk3VaczFgl",
        "outputId": "17486815-b323-4432-bb20-a5d5b16f4a93"
      },
      "execution_count": 15,
      "outputs": [
        {
          "output_type": "stream",
          "name": "stdout",
          "text": [
            "['atrás', 'do', 'carro', 'corre', 'se', 'o', 'carro', 'for', 'embora']\n"
          ]
        }
      ]
    },
    {
      "cell_type": "code",
      "source": [
        "print(len(palavras))\n",
        "palavras = limpar (palavras)\n",
        "print(len(palavras))"
      ],
      "metadata": {
        "colab": {
          "base_uri": "https://localhost:8080/"
        },
        "id": "LHCzoR8WzJA7",
        "outputId": "815cfc38-ee19-4210-b5df-41d0d35fd2ca"
      },
      "execution_count": 16,
      "outputs": [
        {
          "output_type": "stream",
          "name": "stdout",
          "text": [
            "37139\n",
            "36585\n"
          ]
        }
      ]
    },
    {
      "cell_type": "code",
      "source": [
        "# Conhecer a quantidade de palavras e vocabulário\n",
        "vocabulario = set(palavras)\n",
        "len(vocabulario)"
      ],
      "metadata": {
        "colab": {
          "base_uri": "https://localhost:8080/"
        },
        "id": "zF6yaUt5zKwT",
        "outputId": "a38f6925-57cc-472c-a195-e53fcd0d6e81"
      },
      "execution_count": 17,
      "outputs": [
        {
          "output_type": "execute_result",
          "data": {
            "text/plain": [
              "6902"
            ]
          },
          "metadata": {},
          "execution_count": 17
        }
      ]
    },
    {
      "cell_type": "code",
      "source": [
        "# calculando a riqueza textual do corpus\n",
        "riqueza = len(vocabulario) / len  (palavras) # 6902 / 36585\n",
        "riqueza"
      ],
      "metadata": {
        "colab": {
          "base_uri": "https://localhost:8080/"
        },
        "id": "F1q5vBhVzM37",
        "outputId": "64cb6708-0a39-42ec-fef6-486d78975421"
      },
      "execution_count": 18,
      "outputs": [
        {
          "output_type": "execute_result",
          "data": {
            "text/plain": [
              "0.188656553232199"
            ]
          },
          "metadata": {},
          "execution_count": 18
        }
      ]
    },
    {
      "cell_type": "code",
      "source": [
        "# Criar um dicionário deste texto\n",
        "from collections import defaultdict\n",
        "\n",
        "def ocorrencias(lista_palavras):\n",
        "    dicionario = defaultdict(int)\n",
        "    for p in lista_palavras:\n",
        "        dicionario[p] += 1\n",
        "\n",
        "        return dicionario"
      ],
      "metadata": {
        "id": "Eea7GItpzOlU"
      },
      "execution_count": 19,
      "outputs": []
    },
    {
      "cell_type": "code",
      "source": [
        "dic = ocorrencias(palavras)\n",
        "mf = sorted(dic.items(), key=lambda tupla:tupla[1], reverse=True)[:50]\n",
        "for palavra, n in mf:\n",
        "    print(palavra,'\\t',n)"
      ],
      "metadata": {
        "colab": {
          "base_uri": "https://localhost:8080/"
        },
        "id": "oM_5ScbHzQsk",
        "outputId": "bae3fb38-8301-4668-a45d-9d1ed3123e2f"
      },
      "execution_count": 20,
      "outputs": [
        {
          "output_type": "stream",
          "name": "stdout",
          "text": [
            "﻿the \t 1\n"
          ]
        }
      ]
    },
    {
      "cell_type": "code",
      "source": [
        "dic\n",
        "#tupla([0],[1])"
      ],
      "metadata": {
        "colab": {
          "base_uri": "https://localhost:8080/"
        },
        "id": "jzkC6Nm9zS_8",
        "outputId": "bdce3bfb-9ffe-4252-d047-3bc5e7e302be"
      },
      "execution_count": 21,
      "outputs": [
        {
          "output_type": "execute_result",
          "data": {
            "text/plain": [
              "defaultdict(int, {'\\ufeffthe': 1})"
            ]
          },
          "metadata": {},
          "execution_count": 21
        }
      ]
    },
    {
      "cell_type": "code",
      "source": [
        "import nltk\n",
        "nltk.download('stopwords')\n",
        "vazias = nltk.corpus.stopwords.words('portuguese')"
      ],
      "metadata": {
        "colab": {
          "base_uri": "https://localhost:8080/"
        },
        "id": "z1ufY5vLzVPs",
        "outputId": "ab10126c-89df-4a94-c005-5c586de1d21b"
      },
      "execution_count": 24,
      "outputs": [
        {
          "output_type": "stream",
          "name": "stderr",
          "text": [
            "[nltk_data] Downloading package stopwords to /root/nltk_data...\n",
            "[nltk_data]   Unzipping corpora/stopwords.zip.\n"
          ]
        }
      ]
    },
    {
      "cell_type": "code",
      "source": [
        "frequentes_plenas = [x for x in mf if x[0].lower() not in vazias]\n",
        "frequentes_plenas"
      ],
      "metadata": {
        "colab": {
          "base_uri": "https://localhost:8080/"
        },
        "id": "nhlPLqiRzXgs",
        "outputId": "dc15fe7c-7030-4c43-b0c6-26ad21ec8ea6"
      },
      "execution_count": 25,
      "outputs": [
        {
          "output_type": "execute_result",
          "data": {
            "text/plain": [
              "[('\\ufeffthe', 1)]"
            ]
          },
          "metadata": {},
          "execution_count": 25
        }
      ]
    },
    {
      "cell_type": "code",
      "source": [
        "!pip install nltk"
      ],
      "metadata": {
        "colab": {
          "base_uri": "https://localhost:8080/"
        },
        "id": "vH4uwS6fzZYs",
        "outputId": "48f51bab-f7e1-46f4-807d-31b962c79218"
      },
      "execution_count": 23,
      "outputs": [
        {
          "output_type": "stream",
          "name": "stdout",
          "text": [
            "Requirement already satisfied: nltk in /usr/local/lib/python3.11/dist-packages (3.9.1)\n",
            "Requirement already satisfied: click in /usr/local/lib/python3.11/dist-packages (from nltk) (8.2.1)\n",
            "Requirement already satisfied: joblib in /usr/local/lib/python3.11/dist-packages (from nltk) (1.5.1)\n",
            "Requirement already satisfied: regex>=2021.8.3 in /usr/local/lib/python3.11/dist-packages (from nltk) (2024.11.6)\n",
            "Requirement already satisfied: tqdm in /usr/local/lib/python3.11/dist-packages (from nltk) (4.67.1)\n"
          ]
        }
      ]
    }
  ]
}